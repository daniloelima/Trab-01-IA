{
 "cells": [
  {
   "cell_type": "markdown",
   "metadata": {},
   "source": [
    "# CLASSIFYING WINE DATASET"
   ]
  },
  {
   "cell_type": "markdown",
   "metadata": {},
   "source": [
    "## General Imports and Settings"
   ]
  },
  {
   "cell_type": "code",
   "execution_count": 1,
   "metadata": {},
   "outputs": [],
   "source": [
    "import numpy as np \n",
    "import scipy as sp \n",
    "from scipy import stats\n",
    "from sklearn import datasets\n",
    "from sklearn.model_selection import cross_val_predict, cross_val_score, RepeatedStratifiedKFold\n",
    "from sklearn.metrics import confusion_matrix, plot_confusion_matrix\n",
    "from datetime import datetime\n",
    "import matplotlib.pyplot as plt"
   ]
  },
  {
   "cell_type": "code",
   "execution_count": 2,
   "metadata": {},
   "outputs": [],
   "source": [
    "num_folds = 10\n",
    "num_rep = 3\n",
    "exec_time = datetime.today().strftime('%Y-%m-%d %H:%M:%S')"
   ]
  },
  {
   "cell_type": "markdown",
   "metadata": {},
   "source": [
    "### Leitura do dataset"
   ]
  },
  {
   "cell_type": "code",
   "execution_count": 3,
   "metadata": {},
   "outputs": [],
   "source": [
    "wine_ds = datasets.load_wine()\n",
    "\n",
    "wine_x = wine_ds.data\n",
    "wine_y = wine_ds.target"
   ]
  },
  {
   "cell_type": "markdown",
   "metadata": {},
   "source": [
    "## ZERO R"
   ]
  },
  {
   "cell_type": "markdown",
   "metadata": {},
   "source": [
    "### Configuração do classificador"
   ]
  },
  {
   "cell_type": "code",
   "execution_count": 4,
   "metadata": {},
   "outputs": [],
   "source": [
    "from sklearn.dummy import DummyClassifier\n",
    "\n",
    "zr = DummyClassifier(strategy=\"stratified\")\n",
    "rskf = RepeatedStratifiedKFold(n_splits = num_folds, n_repeats = num_rep, random_state = 36851234)"
   ]
  },
  {
   "cell_type": "markdown",
   "metadata": {},
   "source": [
    "### Classificação e obtenção dos resultados"
   ]
  },
  {
   "cell_type": "code",
   "execution_count": 8,
   "metadata": {},
   "outputs": [
    {
     "name": "stdout",
     "output_type": "stream",
     "text": [
      "Zero R (mean, std, low, upp): \n",
      " 0.2961873638344226 0.10964197042878235 0.2569532095550652 0.33542151811378007\n"
     ]
    }
   ],
   "source": [
    "zr_scores = cross_val_score(zr, wine_x, wine_y, scoring='accuracy', cv=rskf)\n",
    "#print(score)\n",
    "\n",
    "zr_score_mean = zr_scores.mean()\n",
    "zr_score_std = zr_scores.std()\n",
    "zr_score_low, zr_score_upp = stats.norm.interval(0.95, loc=zr_score_mean, scale=zr_score_std/np.sqrt(len(zr_scores)))\n",
    "\n",
    "print(\"Zero R (mean, std, low, upp): \\n\", zr_score_mean, zr_score_std, zr_score_low, zr_score_upp)"
   ]
  },
  {
   "cell_type": "markdown",
   "metadata": {},
   "source": [
    "## K NEAREST NEIGHBOR"
   ]
  },
  {
   "cell_type": "markdown",
   "metadata": {},
   "source": [
    "### Configuração do classificador"
   ]
  },
  {
   "cell_type": "code",
   "execution_count": 6,
   "metadata": {},
   "outputs": [],
   "source": [
    "from sklearn.neighbors import KNeighborsClassifier\n",
    "\n",
    "knn = KNeighborsClassifier()\n",
    "rskf = RepeatedStratifiedKFold(n_splits = num_folds, n_repeats = num_rep, random_state = 36851234)"
   ]
  },
  {
   "cell_type": "markdown",
   "metadata": {},
   "source": [
    "### Classificação e obtenção dos resultados"
   ]
  },
  {
   "cell_type": "code",
   "execution_count": 9,
   "metadata": {},
   "outputs": [
    {
     "name": "stdout",
     "output_type": "stream",
     "text": [
      "KNN (mean, std, low, upp): \n",
      " 0.6974945533769062 0.10891617525307232 0.6585201167931325 0.73646898996068\n"
     ]
    }
   ],
   "source": [
    "knn_scores = cross_val_score(knn, wine_x, wine_y, scoring='accuracy', cv=rskf)\n",
    "#print(score)\n",
    "\n",
    "knn_score_mean = knn_scores.mean()\n",
    "knn_score_std = knn_scores.std()\n",
    "knn_score_low, knn_score_upp = stats.norm.interval(0.95, loc=knn_score_mean, scale=knn_score_std/np.sqrt(len(knn_scores)))\n",
    "\n",
    "print(\"KNN (mean, std, low, upp): \\n\",knn_score_mean, knn_score_std, knn_score_low, knn_score_upp)"
   ]
  },
  {
   "cell_type": "markdown",
   "metadata": {},
   "source": [
    "## Results"
   ]
  },
  {
   "cell_type": "code",
   "execution_count": 11,
   "metadata": {},
   "outputs": [],
   "source": [
    "with open(\"../results/results.md\", \"w\") as rf: #opening result file\n",
    "    print(\"# Results Obtained\", file=rf)\n",
    "    print(\"## Configuration\\n\", file=rf)\n",
    "    print(\"Num of folds: \", num_folds, \"\\n\", file=rf)\n",
    "    print(\"Num of repetitions: \", num_rep, \"\\n\", file=rf)\n",
    "    print(\"Test run on: \", exec_time, file=rf)\n",
    "    \n",
    "    print(\"## Zero R\\n\", file=rf)\n",
    "    print(\"Mean Value: \", str(zr_score_mean), \"\\n\", file=rf)\n",
    "    print(\"Standart Variation: \", str(zr_score_std), \"\\n\", file=rf)\n",
    "    print(\"Lower limit: \", str(zr_score_low), \"\\n\", file=rf)\n",
    "    print(\"Upper limit: \", str(zr_score_upp), \"\\n\", file=rf)\n",
    "\n",
    "    print(\"## K NEAREST NEIGHBORS\\n\", file=rf)\n",
    "    print(\"Mean Value: \", str(knn_score_mean), \"\\n\", file=rf)\n",
    "    print(\"Standart Variation: \", str(knn_score_std), \"\\n\", file=rf)\n",
    "    print(\"Lower limit: \", str(knn_score_low), \"\\n\", file=rf)\n",
    "    print(\"Upper limit: \", str(knn_score_upp), \"\\n\", file=rf)"
   ]
  }
 ],
 "metadata": {
  "interpreter": {
   "hash": "12e1f38cb87e37384bc5c23b635ae1d64a3ff37efda71f71566aa42a7a9ed8d2"
  },
  "kernelspec": {
   "display_name": "Python 3.8.5 64-bit",
   "language": "python",
   "name": "python3"
  },
  "language_info": {
   "codemirror_mode": {
    "name": "ipython",
    "version": 3
   },
   "file_extension": ".py",
   "mimetype": "text/x-python",
   "name": "python",
   "nbconvert_exporter": "python",
   "pygments_lexer": "ipython3",
   "version": "3.8.5"
  },
  "orig_nbformat": 4
 },
 "nbformat": 4,
 "nbformat_minor": 2
}
