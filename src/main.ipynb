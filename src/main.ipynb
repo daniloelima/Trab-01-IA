{
 "cells": [
  {
   "cell_type": "markdown",
   "metadata": {},
   "source": [
    "# CLASSIFYING WINE DATASET"
   ]
  },
  {
   "cell_type": "markdown",
   "metadata": {},
   "source": [
    "## General Imports and Settings"
   ]
  },
  {
   "cell_type": "code",
   "execution_count": 249,
   "metadata": {},
   "outputs": [],
   "source": [
    "import numpy as np \n",
    "import scipy as sp \n",
    "from scipy import stats\n",
    "from sklearn import datasets\n",
    "from sklearn.model_selection import cross_val_score, GridSearchCV, StratifiedKFold, RepeatedStratifiedKFold\n",
    "from datetime import datetime\n",
    "import matplotlib.pyplot as plt\n",
    "from sklearn.preprocessing import StandardScaler\n",
    "from sklearn.pipeline import Pipeline\n",
    "import pandas as pd\n",
    "from seaborn import boxplot\n",
    "import matplotlib.pyplot as plt"
   ]
  },
  {
   "cell_type": "code",
   "execution_count": 250,
   "metadata": {},
   "outputs": [],
   "source": [
    "num_splits = 10\n",
    "num_rep = 3\n",
    "exec_time = datetime.today().strftime('%Y-%m-%d %H:%M:%S')"
   ]
  },
  {
   "cell_type": "code",
   "execution_count": 251,
   "metadata": {},
   "outputs": [],
   "source": [
    "rskf = RepeatedStratifiedKFold(n_splits = num_splits, n_repeats = num_rep, random_state = 36851234)\n",
    "skf = StratifiedKFold(n_splits=4)"
   ]
  },
  {
   "cell_type": "markdown",
   "metadata": {},
   "source": [
    "### Leitura do dataset"
   ]
  },
  {
   "cell_type": "code",
   "execution_count": 252,
   "metadata": {},
   "outputs": [],
   "source": [
    "wine_ds = datasets.load_wine()\n",
    "\n",
    "wine_x = wine_ds.data\n",
    "wine_y = wine_ds.target"
   ]
  },
  {
   "cell_type": "markdown",
   "metadata": {},
   "source": [
    "## ZERO R"
   ]
  },
  {
   "cell_type": "markdown",
   "metadata": {},
   "source": [
    "### Configuração do classificador"
   ]
  },
  {
   "cell_type": "code",
   "execution_count": 253,
   "metadata": {},
   "outputs": [],
   "source": [
    "from sklearn.dummy import DummyClassifier\n",
    "\n",
    "zr = DummyClassifier(strategy=\"prior\")\n",
    "\n",
    "processed_zr = Pipeline([('scaler', StandardScaler()), ('zr', zr)])"
   ]
  },
  {
   "cell_type": "markdown",
   "metadata": {},
   "source": [
    "### Classificação e obtenção dos resultados"
   ]
  },
  {
   "cell_type": "code",
   "execution_count": 254,
   "metadata": {},
   "outputs": [
    {
     "name": "stdout",
     "output_type": "stream",
     "text": [
      "Zero R (mean, std, low, upp): \n",
      " 0.3993464052287583 0.024707265583576204 0.3905051862508785 0.4081876242066381\n"
     ]
    }
   ],
   "source": [
    "zr_scores = cross_val_score(processed_zr, wine_x, wine_y, scoring='accuracy', cv=rskf)\n",
    "#print(score)\n",
    "\n",
    "zr_score_mean = zr_scores.mean()\n",
    "zr_score_std = zr_scores.std()\n",
    "zr_score_low, zr_score_upp = stats.norm.interval(0.95, loc=zr_score_mean, scale=zr_score_std/np.sqrt(len(zr_scores)))\n",
    "\n",
    "zr_results = [\"ZR\", zr_score_mean, zr_score_std, zr_score_low, zr_score_upp]\n",
    "\n",
    "print(\"Zero R (mean, std, low, upp): \\n\", zr_score_mean, zr_score_std, zr_score_low, zr_score_upp)"
   ]
  },
  {
   "cell_type": "markdown",
   "metadata": {},
   "source": [
    "## K NEAREST NEIGHBOR"
   ]
  },
  {
   "cell_type": "markdown",
   "metadata": {},
   "source": [
    "### Configuração do classificador"
   ]
  },
  {
   "cell_type": "code",
   "execution_count": 255,
   "metadata": {},
   "outputs": [],
   "source": [
    "from sklearn.neighbors import KNeighborsClassifier\n",
    "\n",
    "knn = KNeighborsClassifier()"
   ]
  },
  {
   "cell_type": "code",
   "execution_count": 256,
   "metadata": {},
   "outputs": [],
   "source": [
    "grid_params = {'knn__n_neighbors': [1,3,5,7]}\n",
    "\n",
    "processed_knn = Pipeline([('scaler', StandardScaler()), ('knn', knn)])\n",
    "\n",
    "gs_knn = GridSearchCV(estimator=processed_knn, param_grid = grid_params, scoring='accuracy', cv = skf)"
   ]
  },
  {
   "cell_type": "markdown",
   "metadata": {},
   "source": [
    "### Classificação e obtenção dos resultados"
   ]
  },
  {
   "cell_type": "code",
   "execution_count": 257,
   "metadata": {},
   "outputs": [
    {
     "name": "stdout",
     "output_type": "stream",
     "text": [
      "KNN (mean, std, low, upp): \n",
      " 0.9604575163398692 0.05318771771984477 0.9414248857274637 0.9794901469522747\n"
     ]
    }
   ],
   "source": [
    "knn_scores = cross_val_score(gs_knn, wine_x, wine_y, scoring='accuracy', cv=rskf)\n",
    "#print(score)\n",
    "\n",
    "knn_score_mean = knn_scores.mean()\n",
    "knn_score_std = knn_scores.std()\n",
    "knn_score_low, knn_score_upp = stats.norm.interval(0.95, loc=knn_score_mean, scale=knn_score_std/np.sqrt(len(knn_scores)))\n",
    "\n",
    "knn_results = [\"KNN\", knn_score_mean, knn_score_std, knn_score_low, knn_score_upp]\n",
    "print(\"KNN (mean, std, low, upp): \\n\",knn_score_mean, knn_score_std, knn_score_low, knn_score_upp)"
   ]
  },
  {
   "cell_type": "markdown",
   "metadata": {},
   "source": [
    "## DECISION TREE"
   ]
  },
  {
   "cell_type": "markdown",
   "metadata": {},
   "source": [
    "### Configuração do classificador"
   ]
  },
  {
   "cell_type": "code",
   "execution_count": 258,
   "metadata": {},
   "outputs": [],
   "source": [
    "from sklearn.tree import DecisionTreeClassifier\n",
    "\n",
    "dt = DecisionTreeClassifier()"
   ]
  },
  {
   "cell_type": "code",
   "execution_count": 259,
   "metadata": {},
   "outputs": [],
   "source": [
    "grade={'dt__max_depth': [3,5,10]}\n",
    "\n",
    "processed_dt = Pipeline([('scaler', StandardScaler()), ('dt', dt)])\n",
    "gs_dt = GridSearchCV(estimator=processed_dt, param_grid = grade, scoring='accuracy', cv = 4)"
   ]
  },
  {
   "cell_type": "markdown",
   "metadata": {},
   "source": [
    "### Classificação e obtenção dos resultados"
   ]
  },
  {
   "cell_type": "code",
   "execution_count": 260,
   "metadata": {},
   "outputs": [
    {
     "name": "stdout",
     "output_type": "stream",
     "text": [
      "dt (mean, std, low, upp): \n",
      " 0.8896514161220043 0.07209164811607015 0.8638542251979662 0.9154486070460424\n"
     ]
    }
   ],
   "source": [
    "dt_scores = cross_val_score(gs_dt, wine_x, wine_y, scoring='accuracy', cv=rskf)\n",
    "#print(score)\n",
    "\n",
    "dt_score_mean = dt_scores.mean()\n",
    "dt_score_std = dt_scores.std()\n",
    "dt_score_low, dt_score_upp = stats.norm.interval(0.95, loc=dt_score_mean, scale=dt_score_std/np.sqrt(len(dt_scores)))\n",
    "\n",
    "dt_results = [\"DT\", dt_score_mean, dt_score_std, dt_score_low, dt_score_upp]\n",
    "print(\"dt (mean, std, low, upp): \\n\",dt_score_mean, dt_score_std, dt_score_low, dt_score_upp)"
   ]
  },
  {
   "cell_type": "markdown",
   "metadata": {},
   "source": [
    "## NAIVE BAYES GAUSSIAN"
   ]
  },
  {
   "cell_type": "markdown",
   "metadata": {},
   "source": [
    "### Configuração do classificador"
   ]
  },
  {
   "cell_type": "code",
   "execution_count": 261,
   "metadata": {},
   "outputs": [],
   "source": [
    "from sklearn.naive_bayes import GaussianNB\n",
    "\n",
    "nbg = GaussianNB()\n",
    "processed_nbg = Pipeline([('scaler', StandardScaler()), ('nbg', nbg)])"
   ]
  },
  {
   "cell_type": "markdown",
   "metadata": {},
   "source": [
    "### Classificação e obtenção dos resultados"
   ]
  },
  {
   "cell_type": "code",
   "execution_count": 262,
   "metadata": {},
   "outputs": [
    {
     "name": "stdout",
     "output_type": "stream",
     "text": [
      "nbg (mean, std, low, upp): \n",
      " 0.9734204793028323 0.0482047991331875 0.9561709304412 0.9906700281644645\n"
     ]
    }
   ],
   "source": [
    "nbg_scores = cross_val_score(processed_nbg, wine_x, wine_y, scoring='accuracy', cv=rskf)\n",
    "#print(score)\n",
    "\n",
    "nbg_score_mean = nbg_scores.mean()\n",
    "nbg_score_std = nbg_scores.std()\n",
    "nbg_score_low, nbg_score_upp = stats.norm.interval(0.95, loc=nbg_score_mean, scale=nbg_score_std/np.sqrt(len(nbg_scores)))\n",
    "\n",
    "\n",
    "nbg_results = [\"NBG\", nbg_score_mean, nbg_score_std, nbg_score_low, nbg_score_upp]\n",
    "print(\"nbg (mean, std, low, upp): \\n\",nbg_score_mean, nbg_score_std, nbg_score_low, nbg_score_upp)"
   ]
  },
  {
   "cell_type": "markdown",
   "metadata": {},
   "source": [
    "## K Means Centroids"
   ]
  },
  {
   "cell_type": "markdown",
   "metadata": {},
   "source": [
    "### Configuração do classificador"
   ]
  },
  {
   "cell_type": "code",
   "execution_count": 263,
   "metadata": {},
   "outputs": [],
   "source": [
    "from sklearn.base import BaseEstimator\n",
    "from sklearn.cluster import KMeans\n",
    "from math import inf\n",
    "from scipy.spatial.distance import euclidean\n",
    "\n",
    "class KMeansCentroids(BaseEstimator):\n",
    "    def __init__(self, num_centroids=1):\n",
    "        super().__init__()\n",
    "        self.num_centroids = num_centroids\n",
    "        self.classes = {}\n",
    "        self.centroids = {}\n",
    "\n",
    "    def fit(self, x_train, y_train):\n",
    "        kmeans = KMeans(n_clusters = self.num_centroids)\n",
    "        \n",
    "        self.classes = np.unique(y_train) # Extrai cada classe possivel\n",
    "        self.classifing = {}\n",
    "        for i in self.classes:\n",
    "            group = x_train[y_train == i]\n",
    "            kmeans.fit(group)\n",
    "            atual_centroid = {i: kmeans.cluster_centers_}\n",
    "            self.centroids.update(atual_centroid)\n",
    "\n",
    "    def predict(self, x_train):\n",
    "        pred = []\n",
    "        #print(x_train[0])\n",
    "        #print(self.centroids)\n",
    "        \n",
    "        for i in x_train:\n",
    "            i_dist = inf\n",
    "\n",
    "            for cluster_key in self.centroids:\n",
    "                cluster_group = self.centroids[cluster_key]\n",
    "\n",
    "                for cluster in cluster_group:\n",
    "                    #print(i, cluster)\n",
    "                    dist = euclidean(i, cluster)\n",
    "                    #print(dist)\n",
    "                    if dist < i_dist:\n",
    "                        i_dist = dist\n",
    "                        i_pred = cluster_key\n",
    "\n",
    "            pred.append(i_pred)\n",
    "        return pred"
   ]
  },
  {
   "cell_type": "code",
   "execution_count": 264,
   "metadata": {},
   "outputs": [],
   "source": [
    "# kmc = KMeansCentroids(2)\n",
    "# kmc.fit(wine_x, wine_y)\n",
    "# kmc.predict(wine_x)\n",
    "\n",
    "# cross_val_predict()"
   ]
  },
  {
   "cell_type": "code",
   "execution_count": 265,
   "metadata": {},
   "outputs": [],
   "source": [
    "kmc = KMeansCentroids(2)\n",
    "grid_params = {'kmc__num_centroids': [1,3,5,7]}\n",
    "processed_kmc = Pipeline([('scaler', StandardScaler()), ('kmc', kmc)])\n",
    "gs_kmc = GridSearchCV(estimator=processed_kmc, param_grid = grid_params, scoring='accuracy', cv = skf)\n"
   ]
  },
  {
   "cell_type": "markdown",
   "metadata": {},
   "source": [
    "### Classificação e obtenção dos resultados"
   ]
  },
  {
   "cell_type": "code",
   "execution_count": 266,
   "metadata": {},
   "outputs": [],
   "source": [
    "kmc_scores = cross_val_score(gs_kmc, wine_x, wine_y, scoring='accuracy', cv=rskf)\n",
    "#print(score)\n",
    "\n",
    "kmc_score_mean = kmc_scores.mean()\n",
    "kmc_score_std = kmc_scores.std()\n",
    "kmc_score_low, kmc_score_upp = stats.norm.interval(0.95, loc=kmc_score_mean, scale=kmc_score_std/np.sqrt(len(kmc_scores)))\n",
    "\n",
    "kmc_results = [\"KMC\", kmc_score_mean, kmc_score_std, kmc_score_low, kmc_score_upp]\n",
    "#print(\"kmc (mean, std, low, upp): \\n\",kmc_score_mean, kmc_score_std, kmc_score_low, kmc_score_upp)"
   ]
  },
  {
   "cell_type": "markdown",
   "metadata": {},
   "source": [
    "## Results"
   ]
  },
  {
   "cell_type": "markdown",
   "metadata": {},
   "source": [
    "### Imprime os Resultados"
   ]
  },
  {
   "cell_type": "code",
   "execution_count": 274,
   "metadata": {},
   "outputs": [
    {
     "name": "stdout",
     "output_type": "stream",
     "text": [
      "Método Média\n",
      "ZR 0.3993464052287583\n",
      "KNN 0.9604575163398692\n",
      "KMC 0.9660130718954247\n",
      "NBG 0.9734204793028323\n",
      "DT 0.8896514161220043\n"
     ]
    }
   ],
   "source": [
    "results = []\n",
    "\n",
    "results.append([\"Método\", \"Média\", \"Desvio Padrão\", \"Limite Inferior\", \"Limite Superior\"])\n",
    "results.append(zr_results)\n",
    "results.append(knn_results)\n",
    "results.append(kmc_results)\n",
    "results.append(nbg_results)\n",
    "results.append(dt_results)\n",
    "\n",
    "\n",
    "for c in results:\n",
    "    print(c[0], c[1])\n",
    "\n",
    "#print(results)"
   ]
  },
  {
   "cell_type": "code",
   "execution_count": 273,
   "metadata": {},
   "outputs": [],
   "source": [
    "# Create file  results.md \n",
    "with open(\"../results/results.md\", \"w\") as rf: #opening result file\n",
    "    print(\"# Results Obtained\", file=rf)\n",
    "    print(\"## Configuration\\n\", file=rf)\n",
    "    print(\"Num of folds: \", num_splits, \"\\n\", file=rf)\n",
    "    print(\"Num of repetitions: \", num_rep, \"\\n\", file=rf)\n",
    "    print(\"Test run on: \", exec_time, file=rf)\n",
    "    \n",
    "    print(\"## Zero R\\n\", file=rf)\n",
    "    print(\"Mean Value: \", str(zr_score_mean), \"\\n\", file=rf)\n",
    "    print(\"Standart Variation: \", str(zr_score_std), \"\\n\", file=rf)\n",
    "    print(\"Lower limit: \", str(zr_score_low), \"\\n\", file=rf)\n",
    "    print(\"Upper limit: \", str(zr_score_upp), \"\\n\", file=rf)\n",
    "\n",
    "    print(\"## K NEAREST NEIGHBORS\\n\", file=rf)\n",
    "    print(\"Mean Value: \", str(knn_score_mean), \"\\n\", file=rf)\n",
    "    print(\"Standart Variation: \", str(knn_score_std), \"\\n\", file=rf)\n",
    "    print(\"Lower limit: \", str(knn_score_low), \"\\n\", file=rf)\n",
    "    print(\"Upper limit: \", str(knn_score_upp), \"\\n\", file=rf)\n",
    "\n",
    "    print(\"## DECISION TREE\\n\", file=rf)\n",
    "    print(\"Mean Value: \", str(dt_score_mean), \"\\n\", file=rf)\n",
    "    print(\"Standart Variation: \", str(dt_score_std), \"\\n\", file=rf)\n",
    "    print(\"Lower limit: \", str(dt_score_low), \"\\n\", file=rf)\n",
    "    print(\"Upper limit: \", str(dt_score_upp), \"\\n\", file=rf)\n",
    "\n",
    "    print(\"## NBG\\n\", file=rf)\n",
    "    print(\"Mean Value: \", str(nbg_score_mean), \"\\n\", file=rf)\n",
    "    print(\"Standart Variation: \", str(nbg_score_std), \"\\n\", file=rf)\n",
    "    print(\"Lower limit: \", str(nbg_score_low), \"\\n\", file=rf)\n",
    "    print(\"Upper limit: \", str(nbg_score_upp), \"\\n\", file=rf)\n",
    "\n",
    "    print(\"## KMC\\n\", file=rf)\n",
    "    print(\"Mean Value: \", str(kmc_score_mean), \"\\n\", file=rf)\n",
    "    print(\"Standart Variation: \", str(kmc_score_std), \"\\n\", file=rf)\n",
    "    print(\"Lower limit: \", str(kmc_score_low), \"\\n\", file=rf)\n",
    "    print(\"Upper limit: \", str(kmc_score_upp), \"\\n\", file=rf)"
   ]
  },
  {
   "cell_type": "code",
   "execution_count": 268,
   "metadata": {},
   "outputs": [],
   "source": [
    "with open(\"../results/scores.txt\", \"w\") as rf: \n",
    "    print(\"Zero R\\n\", file=rf)\n",
    "    print(str(zr_scores), \"\\n\", file=rf)\n",
    "\n",
    "    print(\"DECISION TREE\\n\", file=rf)\n",
    "    print(str(dt_scores), \"\\n\", file=rf)\n",
    "\n",
    "    print(\"K NEAREST NEIGHBORS\\n\", file=rf)\n",
    "    print(str(knn_scores), \"\\n\", file=rf)\n",
    "\n",
    "    print(\"NBG\\n\", file=rf)\n",
    "    print(str(nbg_scores), \"\\n\", file=rf)\n",
    "\n",
    "    print(\"KMC\\n\", file=rf)\n",
    "    print(str(kmc_scores), \"\\n\", file=rf)\n"
   ]
  },
  {
   "cell_type": "markdown",
   "metadata": {},
   "source": [
    "### Gera os graficos"
   ]
  },
  {
   "cell_type": "markdown",
   "metadata": {},
   "source": [
    "### Tabela Wilcoxon e Test Rel"
   ]
  },
  {
   "cell_type": "code",
   "execution_count": 275,
   "metadata": {},
   "outputs": [
    {
     "name": "stdout",
     "output_type": "stream",
     "text": [
      "Zero R 0.0000000000 0.0000000000 0.0000000000 0.0000000000 \n",
      "\n",
      "0.0000008057 Naive Bayes Gaussian 0.2169484607 0.0527121786 0.0000000123 \n",
      "\n",
      "0.0000011929 0.3307432884 K Means Centroids 0.3321132365 0.0000001931 \n",
      "\n",
      "0.0000012490 0.1145886794 0.4536952997 K Nearest Neighbor 0.0000001536 \n",
      "\n",
      "0.0000015302 0.0000182344 0.0000438727 0.0000206253 Decision Tree \n",
      "\n"
     ]
    },
    {
     "name": "stderr",
     "output_type": "stream",
     "text": [
      "c:\\Users\\Pichau\\AppData\\Local\\Programs\\Python\\Python38\\lib\\site-packages\\scipy\\stats\\morestats.py:2971: UserWarning: Sample size too small for normal approximation.\n",
      "  warnings.warn(\"Sample size too small for normal approximation.\")\n"
     ]
    }
   ],
   "source": [
    "from scipy.stats import ttest_rel, wilcoxon\n",
    "\n",
    "table_wil_rel = [[0 for x in range(5)] for y in range(5)]\n",
    "\n",
    "table_wil_rel[0][0] = ('Zero R', zr_scores)\n",
    "table_wil_rel[1][1] = ('Naive Bayes Gaussian', nbg_scores)\n",
    "table_wil_rel[2][2] = ('K Means Centroids', kmc_scores)\n",
    "table_wil_rel[3][3] = ('K Nearest Neighbor', knn_scores)\n",
    "table_wil_rel[4][4] = ('Decision Tree', dt_scores)\n",
    "\n",
    "for i in range(5):\n",
    "    for j in range(5):\n",
    "        if i != j:\n",
    "            if i < j: #computar metrica ttest_rel no triangulo superior\n",
    "                stat, pvalue = ttest_rel(table_wil_rel[i][i][1], table_wil_rel[j][j][1])\n",
    "            if i > j: #computar metrica wilcoxon no triangulo inferior\n",
    "                stat, pvalue = wilcoxon(table_wil_rel[i][i][1], table_wil_rel[j][j][1])\n",
    "            table_wil_rel[i][j] = pvalue\n",
    "\n",
    "table_wil_rel[0][0] = ('Zero R')\n",
    "table_wil_rel[1][1] = ('Naive Bayes Gaussian')\n",
    "table_wil_rel[2][2] = ('K Means Centroids')\n",
    "table_wil_rel[3][3] = ('K Nearest Neighbor')\n",
    "table_wil_rel[4][4] = ('Decision Tree')\n",
    "\n",
    "\n",
    "\n",
    "for i in range(5):\n",
    "    for j in range(5):\n",
    "        if i == j:\n",
    "            print(table_wil_rel[i][j], end=\" \")\n",
    "        else:\n",
    "            print(\"%0.10f\" % table_wil_rel[i][j], end=\" \")\n",
    "    print(\"\\n\")"
   ]
  },
  {
   "cell_type": "code",
   "execution_count": 270,
   "metadata": {},
   "outputs": [
    {
     "data": {
      "image/png": "[encoded data removed]",
      "text/plain": [
       "<Figure size 432x288 with 1 Axes>"
      ]
     },
     "metadata": {
      "needs_background": "light"
     },
     "output_type": "display_data"
    }
   ],
   "source": [
    "all_scores = {'ZR':zr_scores, 'NBG':nbg_scores, 'KMC':kmc_scores, 'KNN':knn_scores, 'DT':dt_scores}\n",
    "\n",
    "graph = pd.DataFrame(all_scores)\n",
    "boxplot(data=graph)\n",
    "\n",
    "plt.show()"
   ]
  }
 ],
 "metadata": {
  "interpreter": {
   "hash": "12e1f38cb87e37384bc5c23b635ae1d64a3ff37efda71f71566aa42a7a9ed8d2"
  },
  "kernelspec": {
   "display_name": "Python 3.8.5 64-bit",
   "language": "python",
   "name": "python3"
  },
  "language_info": {
   "codemirror_mode": {
    "name": "ipython",
    "version": 3
   },
   "file_extension": ".py",
   "mimetype": "text/x-python",
   "name": "python",
   "nbconvert_exporter": "python",
   "pygments_lexer": "ipython3",
   "version": "3.8.5"
  },
  "orig_nbformat": 4
 },
 "nbformat": 4,
 "nbformat_minor": 2
}
