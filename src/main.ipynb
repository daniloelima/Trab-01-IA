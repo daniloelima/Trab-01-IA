{
 "cells": [
  {
   "cell_type": "markdown",
   "metadata": {},
   "source": [
    "# CLASSIFYING WINE DATASET"
   ]
  },
  {
   "cell_type": "markdown",
   "metadata": {},
   "source": [
    "## General Imports and Settings"
   ]
  },
  {
   "cell_type": "code",
   "execution_count": 54,
   "metadata": {},
   "outputs": [],
   "source": [
    "import numpy as np \n",
    "import scipy as sp \n",
    "from scipy import stats\n",
    "from sklearn import datasets\n",
    "from sklearn.model_selection import cross_val_predict, cross_val_score, GridSearchCV, RepeatedStratifiedKFold\n",
    "from sklearn.metrics import confusion_matrix, plot_confusion_matrix\n",
    "from datetime import datetime\n",
    "import matplotlib.pyplot as plt"
   ]
  },
  {
   "cell_type": "code",
   "execution_count": 55,
   "metadata": {},
   "outputs": [],
   "source": [
    "num_folds = 10\n",
    "num_rep = 3\n",
    "exec_time = datetime.today().strftime('%Y-%m-%d %H:%M:%S')"
   ]
  },
  {
   "cell_type": "markdown",
   "metadata": {},
   "source": [
    "### Leitura do dataset"
   ]
  },
  {
   "cell_type": "code",
   "execution_count": 56,
   "metadata": {},
   "outputs": [],
   "source": [
    "wine_ds = datasets.load_wine()\n",
    "\n",
    "wine_x = wine_ds.data\n",
    "wine_y = wine_ds.target"
   ]
  },
  {
   "cell_type": "markdown",
   "metadata": {},
   "source": [
    "## ZERO R"
   ]
  },
  {
   "cell_type": "markdown",
   "metadata": {},
   "source": [
    "### Configuração do classificador"
   ]
  },
  {
   "cell_type": "code",
   "execution_count": 57,
   "metadata": {},
   "outputs": [],
   "source": [
    "from sklearn.dummy import DummyClassifier\n",
    "\n",
    "zr = DummyClassifier(strategy=\"stratified\")\n",
    "rskf = RepeatedStratifiedKFold(n_splits = num_folds, n_repeats = num_rep, random_state = 36851234)"
   ]
  },
  {
   "cell_type": "markdown",
   "metadata": {},
   "source": [
    "### Classificação e obtenção dos resultados"
   ]
  },
  {
   "cell_type": "code",
   "execution_count": 58,
   "metadata": {},
   "outputs": [
    {
     "name": "stdout",
     "output_type": "stream",
     "text": [
      "Zero R (mean, std, low, upp): \n",
      " 0.3218954248366013 0.12526688441318043 0.27707006963784997 0.3667207800353526\n"
     ]
    }
   ],
   "source": [
    "zr_scores = cross_val_score(zr, wine_x, wine_y, scoring='accuracy', cv=rskf)\n",
    "#print(score)\n",
    "\n",
    "zr_score_mean = zr_scores.mean()\n",
    "zr_score_std = zr_scores.std()\n",
    "zr_score_low, zr_score_upp = stats.norm.interval(0.95, loc=zr_score_mean, scale=zr_score_std/np.sqrt(len(zr_scores)))\n",
    "\n",
    "print(\"Zero R (mean, std, low, upp): \\n\", zr_score_mean, zr_score_std, zr_score_low, zr_score_upp)"
   ]
  },
  {
   "cell_type": "markdown",
   "metadata": {},
   "source": [
    "## K NEAREST NEIGHBOR"
   ]
  },
  {
   "cell_type": "markdown",
   "metadata": {},
   "source": [
    "### Configuração do classificador"
   ]
  },
  {
   "cell_type": "code",
   "execution_count": 59,
   "metadata": {},
   "outputs": [],
   "source": [
    "from sklearn.neighbors import KNeighborsClassifier\n",
    "\n",
    "knn = KNeighborsClassifier()\n"
   ]
  },
  {
   "cell_type": "code",
   "execution_count": 60,
   "metadata": {},
   "outputs": [],
   "source": [
    "grid_params = {'n_neighbors': [3,5,11,19]}\n",
    "gs_knn = GridSearchCV(estimator=knn, param_grid = grid_params, scoring='accuracy', cv = num_folds)\n",
    "rskf = RepeatedStratifiedKFold(n_splits = num_folds, n_repeats = num_rep, random_state = 36851234)"
   ]
  },
  {
   "cell_type": "markdown",
   "metadata": {},
   "source": [
    "### Classificação e obtenção dos resultados"
   ]
  },
  {
   "cell_type": "code",
   "execution_count": 61,
   "metadata": {},
   "outputs": [
    {
     "name": "stdout",
     "output_type": "stream",
     "text": [
      "KNN (mean, std, low, upp): \n",
      " 0.6956427015250546 0.12091424757836543 0.652374888793219 0.7389105142568901\n"
     ]
    }
   ],
   "source": [
    "knn_scores = cross_val_score(gs_knn, wine_x, wine_y, scoring='accuracy', cv=rskf)\n",
    "#print(score)\n",
    "\n",
    "knn_score_mean = knn_scores.mean()\n",
    "knn_score_std = knn_scores.std()\n",
    "knn_score_low, knn_score_upp = stats.norm.interval(0.95, loc=knn_score_mean, scale=knn_score_std/np.sqrt(len(knn_scores)))\n",
    "\n",
    "print(\"KNN (mean, std, low, upp): \\n\",knn_score_mean, knn_score_std, knn_score_low, knn_score_upp)"
   ]
  },
  {
   "cell_type": "markdown",
   "metadata": {},
   "source": [
    "## DECISION TREE"
   ]
  },
  {
   "cell_type": "markdown",
   "metadata": {},
   "source": [
    "### Configuração do classificador"
   ]
  },
  {
   "cell_type": "code",
   "execution_count": 62,
   "metadata": {},
   "outputs": [],
   "source": [
    "from sklearn.tree import DecisionTreeClassifier\n",
    "\n",
    "dt = DecisionTreeClassifier()\n"
   ]
  },
  {
   "cell_type": "code",
   "execution_count": 63,
   "metadata": {},
   "outputs": [],
   "source": [
    "grade={'max_depth': [3,5,10]}\n",
    "gs_dt = GridSearchCV(estimator=dt, param_grid = grade, scoring='accuracy', cv = num_folds)\n",
    "rskf = RepeatedStratifiedKFold(n_splits = num_folds, n_repeats = num_rep, random_state = 36851234)"
   ]
  },
  {
   "cell_type": "markdown",
   "metadata": {},
   "source": [
    "### Classificação e obtenção dos resultados"
   ]
  },
  {
   "cell_type": "code",
   "execution_count": 64,
   "metadata": {},
   "outputs": [
    {
     "name": "stdout",
     "output_type": "stream",
     "text": [
      "dt (mean, std, low, upp): \n",
      " 0.9065359477124182 0.06336611700427768 0.8838610906215882 0.9292108048032481\n"
     ]
    }
   ],
   "source": [
    "dt_scores = cross_val_score(gs_dt, wine_x, wine_y, scoring='accuracy', cv=rskf)\n",
    "#print(score)\n",
    "\n",
    "dt_score_mean = dt_scores.mean()\n",
    "dt_score_std = dt_scores.std()\n",
    "dt_score_low, dt_score_upp = stats.norm.interval(0.95, loc=dt_score_mean, scale=dt_score_std/np.sqrt(len(dt_scores)))\n",
    "\n",
    "print(\"dt (mean, std, low, upp): \\n\",dt_score_mean, dt_score_std, dt_score_low, dt_score_upp)"
   ]
  },
  {
   "cell_type": "markdown",
   "metadata": {},
   "source": [
    "## NAIVE BAYES GAUSSIAN"
   ]
  },
  {
   "cell_type": "markdown",
   "metadata": {},
   "source": [
    "### Configuração do classificador"
   ]
  },
  {
   "cell_type": "code",
   "execution_count": 65,
   "metadata": {},
   "outputs": [],
   "source": [
    "from sklearn.naive_bayes import GaussianNB\n",
    "\n",
    "nbg = GaussianNB()\n",
    "rskf = RepeatedStratifiedKFold(n_splits = num_folds, n_repeats = num_rep, random_state = 36851234)"
   ]
  },
  {
   "cell_type": "markdown",
   "metadata": {},
   "source": [
    "### Classificação e obtenção dos resultados"
   ]
  },
  {
   "cell_type": "code",
   "execution_count": 66,
   "metadata": {},
   "outputs": [
    {
     "name": "stdout",
     "output_type": "stream",
     "text": [
      "nbg (mean, std, low, upp): \n",
      " 0.9734204793028323 0.0482047991331875 0.9561709304412 0.9906700281644645\n"
     ]
    }
   ],
   "source": [
    "nbg_scores = cross_val_score(nbg, wine_x, wine_y, scoring='accuracy', cv=rskf)\n",
    "#print(score)\n",
    "\n",
    "nbg_score_mean = nbg_scores.mean()\n",
    "nbg_score_std = nbg_scores.std()\n",
    "nbg_score_low, nbg_score_upp = stats.norm.interval(0.95, loc=nbg_score_mean, scale=nbg_score_std/np.sqrt(len(nbg_scores)))\n",
    "\n",
    "print(\"nbg (mean, std, low, upp): \\n\",nbg_score_mean, nbg_score_std, nbg_score_low, nbg_score_upp)"
   ]
  },
  {
   "cell_type": "markdown",
   "metadata": {},
   "source": [
    "## KMC"
   ]
  },
  {
   "cell_type": "markdown",
   "metadata": {},
   "source": [
    "### Configuração do classificador"
   ]
  },
  {
   "cell_type": "code",
   "execution_count": 67,
   "metadata": {},
   "outputs": [],
   "source": [
    "# # CREATE CLASSIFIER\n",
    "# from sklearn import newclassifier\n",
    "\n",
    "# kmc = newclassifier()\n",
    "# rskf = RepeatedStratifiedKFold(n_splits = num_folds, n_repeats = num_rep, random_state = 36851234)"
   ]
  },
  {
   "cell_type": "markdown",
   "metadata": {},
   "source": [
    "### Classificação e obtenção dos resultados"
   ]
  },
  {
   "cell_type": "code",
   "execution_count": 68,
   "metadata": {},
   "outputs": [],
   "source": [
    "# kmc_scores = cross_val_score(dt, wine_x, wine_y, scoring='accuracy', cv=rskf)\n",
    "# #print(score)\n",
    "\n",
    "# kmc_score_mean = kmc_scores.mean()\n",
    "# kmc_score_std = kmc_scores.std()\n",
    "# kmc_score_low, kmc_score_upp = stats.norm.interval(0.95, loc=kmc_score_mean, scale=kmc_score_std/np.sqrt(len(kmc_scores)))\n",
    "\n",
    "# print(\"kmc (mean, std, low, upp): \\n\",kmc_score_mean, kmc_score_std, kmc_score_low, kmc_score_upp)"
   ]
  },
  {
   "cell_type": "markdown",
   "metadata": {},
   "source": [
    "## Results"
   ]
  },
  {
   "cell_type": "markdown",
   "metadata": {},
   "source": [
    "### Imprime os Resultados"
   ]
  },
  {
   "cell_type": "code",
   "execution_count": 69,
   "metadata": {},
   "outputs": [],
   "source": [
    "# Create file  results.md \n",
    "with open(\"../results/results.md\", \"w\") as rf: #opening result file\n",
    "    print(\"# Results Obtained\", file=rf)\n",
    "    print(\"## Configuration\\n\", file=rf)\n",
    "    print(\"Num of folds: \", num_folds, \"\\n\", file=rf)\n",
    "    print(\"Num of repetitions: \", num_rep, \"\\n\", file=rf)\n",
    "    print(\"Test run on: \", exec_time, file=rf)\n",
    "    \n",
    "    print(\"## Zero R\\n\", file=rf)\n",
    "    print(\"Mean Value: \", str(zr_score_mean), \"\\n\", file=rf)\n",
    "    print(\"Standart Variation: \", str(zr_score_std), \"\\n\", file=rf)\n",
    "    print(\"Lower limit: \", str(zr_score_low), \"\\n\", file=rf)\n",
    "    print(\"Upper limit: \", str(zr_score_upp), \"\\n\", file=rf)\n",
    "\n",
    "    print(\"## K NEAREST NEIGHBORS\\n\", file=rf)\n",
    "    print(\"Mean Value: \", str(knn_score_mean), \"\\n\", file=rf)\n",
    "    print(\"Standart Variation: \", str(knn_score_std), \"\\n\", file=rf)\n",
    "    print(\"Lower limit: \", str(knn_score_low), \"\\n\", file=rf)\n",
    "    print(\"Upper limit: \", str(knn_score_upp), \"\\n\", file=rf)\n",
    "\n",
    "    print(\"## DECISION TREE\\n\", file=rf)\n",
    "    print(\"Mean Value: \", str(dt_score_mean), \"\\n\", file=rf)\n",
    "    print(\"Standart Variation: \", str(dt_score_std), \"\\n\", file=rf)\n",
    "    print(\"Lower limit: \", str(dt_score_low), \"\\n\", file=rf)\n",
    "    print(\"Upper limit: \", str(dt_score_upp), \"\\n\", file=rf)\n",
    "\n",
    "    print(\"## NBG\\n\", file=rf)\n",
    "    print(\"Mean Value: \", str(nbg_score_mean), \"\\n\", file=rf)\n",
    "    print(\"Standart Variation: \", str(nbg_score_std), \"\\n\", file=rf)\n",
    "    print(\"Lower limit: \", str(nbg_score_low), \"\\n\", file=rf)\n",
    "    print(\"Upper limit: \", str(nbg_score_upp), \"\\n\", file=rf)\n",
    "\n",
    "    # print(\"## KMC\\n\", file=rf)\n",
    "    # print(\"Mean Value: \", str(kmc_score_mean), \"\\n\", file=rf)\n",
    "    # print(\"Standart Variation: \", str(kmc_score_std), \"\\n\", file=rf)\n",
    "    # print(\"Lower limit: \", str(kmc_score_low), \"\\n\", file=rf)\n",
    "    # print(\"Upper limit: \", str(kmc_score_upp), \"\\n\", file=rf)"
   ]
  },
  {
   "cell_type": "markdown",
   "metadata": {},
   "source": [
    "### Gera os graficos"
   ]
  },
  {
   "cell_type": "code",
   "execution_count": 70,
   "metadata": {},
   "outputs": [],
   "source": [
    "#plot "
   ]
  }
 ],
 "metadata": {
  "interpreter": {
   "hash": "12e1f38cb87e37384bc5c23b635ae1d64a3ff37efda71f71566aa42a7a9ed8d2"
  },
  "kernelspec": {
   "display_name": "Python 3.8.5 64-bit",
   "language": "python",
   "name": "python3"
  },
  "language_info": {
   "codemirror_mode": {
    "name": "ipython",
    "version": 3
   },
   "file_extension": ".py",
   "mimetype": "text/x-python",
   "name": "python",
   "nbconvert_exporter": "python",
   "pygments_lexer": "ipython3",
   "version": "3.8.5"
  },
  "orig_nbformat": 4
 },
 "nbformat": 4,
 "nbformat_minor": 2
}
