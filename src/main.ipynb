{
 "cells": [
  {
   "cell_type": "markdown",
   "metadata": {},
   "source": [
    "# CLASSIFYING WINE DATASET"
   ]
  },
  {
   "cell_type": "markdown",
   "metadata": {},
   "source": [
    "## General Imports and Settings"
   ]
  },
  {
   "cell_type": "code",
   "execution_count": 14,
   "metadata": {},
   "outputs": [],
   "source": [
    "import numpy as np \n",
    "import scipy as sp \n",
    "from scipy import stats\n",
    "from sklearn import datasets\n",
    "from sklearn.model_selection import cross_val_predict, cross_val_score, RepeatedStratifiedKFold\n",
    "from sklearn.metrics import confusion_matrix, plot_confusion_matrix\n",
    "from datetime import datetime\n",
    "import matplotlib.pyplot as plt"
   ]
  },
  {
   "cell_type": "code",
   "execution_count": 15,
   "metadata": {},
   "outputs": [],
   "source": [
    "num_folds = 10\n",
    "num_rep = 3\n",
    "exec_time = datetime.today().strftime('%Y-%m-%d %H:%M:%S')"
   ]
  },
  {
   "cell_type": "markdown",
   "metadata": {},
   "source": [
    "### Leitura do dataset"
   ]
  },
  {
   "cell_type": "code",
   "execution_count": 16,
   "metadata": {},
   "outputs": [],
   "source": [
    "wine_ds = datasets.load_wine()\n",
    "\n",
    "wine_x = wine_ds.data\n",
    "wine_y = wine_ds.target"
   ]
  },
  {
   "cell_type": "markdown",
   "metadata": {},
   "source": [
    "## ZERO R"
   ]
  },
  {
   "cell_type": "markdown",
   "metadata": {},
   "source": [
    "### Configuração do classificador"
   ]
  },
  {
   "cell_type": "code",
   "execution_count": 17,
   "metadata": {},
   "outputs": [],
   "source": [
    "from sklearn.dummy import DummyClassifier\n",
    "\n",
    "zr = DummyClassifier(strategy=\"stratified\")\n",
    "rskf = RepeatedStratifiedKFold(n_splits = num_folds, n_repeats = num_rep, random_state = 36851234)"
   ]
  },
  {
   "cell_type": "markdown",
   "metadata": {},
   "source": [
    "### Classificação e obtenção dos resultados"
   ]
  },
  {
   "cell_type": "code",
   "execution_count": 18,
   "metadata": {},
   "outputs": [
    {
     "name": "stdout",
     "output_type": "stream",
     "text": [
      "Zero R (mean, std, low, upp): \n",
      " 0.2968409586056645 0.11210335923545807 0.25672602383864407 0.33695589337268494\n"
     ]
    }
   ],
   "source": [
    "zr_scores = cross_val_score(zr, wine_x, wine_y, scoring='accuracy', cv=rskf)\n",
    "#print(score)\n",
    "\n",
    "zr_score_mean = zr_scores.mean()\n",
    "zr_score_std = zr_scores.std()\n",
    "zr_score_low, zr_score_upp = stats.norm.interval(0.95, loc=zr_score_mean, scale=zr_score_std/np.sqrt(len(zr_scores)))\n",
    "\n",
    "print(\"Zero R (mean, std, low, upp): \\n\", zr_score_mean, zr_score_std, zr_score_low, zr_score_upp)"
   ]
  },
  {
   "cell_type": "markdown",
   "metadata": {},
   "source": [
    "## K NEAREST NEIGHBOR"
   ]
  },
  {
   "cell_type": "markdown",
   "metadata": {},
   "source": [
    "### Configuração do classificador"
   ]
  },
  {
   "cell_type": "code",
   "execution_count": 19,
   "metadata": {},
   "outputs": [],
   "source": [
    "from sklearn.neighbors import KNeighborsClassifier\n",
    "\n",
    "knn = KNeighborsClassifier()\n",
    "rskf = RepeatedStratifiedKFold(n_splits = num_folds, n_repeats = num_rep, random_state = 36851234)"
   ]
  },
  {
   "cell_type": "markdown",
   "metadata": {},
   "source": [
    "### Classificação e obtenção dos resultados"
   ]
  },
  {
   "cell_type": "code",
   "execution_count": 20,
   "metadata": {},
   "outputs": [
    {
     "name": "stdout",
     "output_type": "stream",
     "text": [
      "KNN (mean, std, low, upp): \n",
      " 0.6974945533769062 0.10891617525307232 0.6585201167931325 0.73646898996068\n"
     ]
    }
   ],
   "source": [
    "knn_scores = cross_val_score(knn, wine_x, wine_y, scoring='accuracy', cv=rskf)\n",
    "#print(score)\n",
    "\n",
    "knn_score_mean = knn_scores.mean()\n",
    "knn_score_std = knn_scores.std()\n",
    "knn_score_low, knn_score_upp = stats.norm.interval(0.95, loc=knn_score_mean, scale=knn_score_std/np.sqrt(len(knn_scores)))\n",
    "\n",
    "print(\"KNN (mean, std, low, upp): \\n\",knn_score_mean, knn_score_std, knn_score_low, knn_score_upp)"
   ]
  },
  {
   "cell_type": "markdown",
   "metadata": {},
   "source": [
    "## DECISION TREE"
   ]
  },
  {
   "cell_type": "markdown",
   "metadata": {},
   "source": [
    "### Configuração do classificador"
   ]
  },
  {
   "cell_type": "code",
   "execution_count": 21,
   "metadata": {},
   "outputs": [
    {
     "ename": "ImportError",
     "evalue": "cannot import name 'decisiontree' from 'sklearn.tree' (c:\\Users\\Pichau\\AppData\\Local\\Programs\\Python\\Python38\\lib\\site-packages\\sklearn\\tree\\__init__.py)",
     "output_type": "error",
     "traceback": [
      "\u001b[1;31m---------------------------------------------------------------------------\u001b[0m",
      "\u001b[1;31mImportError\u001b[0m                               Traceback (most recent call last)",
      "\u001b[1;32m<ipython-input-21-3ea760933789>\u001b[0m in \u001b[0;36m<module>\u001b[1;34m\u001b[0m\n\u001b[1;32m----> 1\u001b[1;33m \u001b[1;32mfrom\u001b[0m \u001b[0msklearn\u001b[0m\u001b[1;33m.\u001b[0m\u001b[0mtree\u001b[0m \u001b[1;32mimport\u001b[0m \u001b[0mdecisiontree\u001b[0m\u001b[1;33m\u001b[0m\u001b[1;33m\u001b[0m\u001b[0m\n\u001b[0m\u001b[0;32m      2\u001b[0m \u001b[1;33m\u001b[0m\u001b[0m\n\u001b[0;32m      3\u001b[0m \u001b[0mdt\u001b[0m \u001b[1;33m=\u001b[0m \u001b[0mdecisiontree\u001b[0m\u001b[1;33m(\u001b[0m\u001b[1;33m)\u001b[0m\u001b[1;33m\u001b[0m\u001b[1;33m\u001b[0m\u001b[0m\n\u001b[0;32m      4\u001b[0m \u001b[0mrskf\u001b[0m \u001b[1;33m=\u001b[0m \u001b[0mRepeatedStratifiedKFold\u001b[0m\u001b[1;33m(\u001b[0m\u001b[0mn_splits\u001b[0m \u001b[1;33m=\u001b[0m \u001b[0mnum_folds\u001b[0m\u001b[1;33m,\u001b[0m \u001b[0mn_repeats\u001b[0m \u001b[1;33m=\u001b[0m \u001b[0mnum_rep\u001b[0m\u001b[1;33m,\u001b[0m \u001b[0mrandom_state\u001b[0m \u001b[1;33m=\u001b[0m \u001b[1;36m36851234\u001b[0m\u001b[1;33m)\u001b[0m\u001b[1;33m\u001b[0m\u001b[1;33m\u001b[0m\u001b[0m\n",
      "\u001b[1;31mImportError\u001b[0m: cannot import name 'decisiontree' from 'sklearn.tree' (c:\\Users\\Pichau\\AppData\\Local\\Programs\\Python\\Python38\\lib\\site-packages\\sklearn\\tree\\__init__.py)"
     ]
    }
   ],
   "source": [
    "from sklearn.tree import decisiontree\n",
    "\n",
    "dt = decisiontree()\n",
    "rskf = RepeatedStratifiedKFold(n_splits = num_folds, n_repeats = num_rep, random_state = 36851234)"
   ]
  },
  {
   "cell_type": "markdown",
   "metadata": {},
   "source": [
    "### Classificação e obtenção dos resultados"
   ]
  },
  {
   "cell_type": "code",
   "execution_count": null,
   "metadata": {},
   "outputs": [
    {
     "name": "stdout",
     "output_type": "stream",
     "text": [
      "KNN (mean, std, low, upp): \n",
      " 0.6974945533769062 0.10891617525307232 0.6585201167931325 0.73646898996068\n"
     ]
    }
   ],
   "source": [
    "dt_scores = cross_val_score(dt, wine_x, wine_y, scoring='accuracy', cv=rskf)\n",
    "#print(score)\n",
    "\n",
    "dt_score_mean = dt_scores.mean()\n",
    "dt_score_std = dt_scores.std()\n",
    "dt_score_low, dt_score_upp = stats.norm.interval(0.95, loc=dt_score_mean, scale=dt_score_std/np.sqrt(len(dt_scores)))\n",
    "\n",
    "print(\"dt (mean, std, low, upp): \\n\",dt_score_mean, dt_score_std, dt_score_low, dt_score_upp)"
   ]
  },
  {
   "cell_type": "markdown",
   "metadata": {},
   "source": [
    "## NBG"
   ]
  },
  {
   "cell_type": "markdown",
   "metadata": {},
   "source": [
    "### Configuração do classificador"
   ]
  },
  {
   "cell_type": "code",
   "execution_count": null,
   "metadata": {},
   "outputs": [
    {
     "ename": "ImportError",
     "evalue": "cannot import name 'decisiontree' from 'sklearn.tree' (c:\\Users\\Pichau\\AppData\\Local\\Programs\\Python\\Python38\\lib\\site-packages\\sklearn\\tree\\__init__.py)",
     "output_type": "error",
     "traceback": [
      "\u001b[1;31m---------------------------------------------------------------------------\u001b[0m\n",
      "\u001b[1;31mImportError\u001b[0m                               Traceback (most recent call last)\n",
      "\u001b[1;32m<ipython-input-21-3ea760933789>\u001b[0m in \u001b[0;36m<module>\u001b[1;34m\u001b[0m\n",
      "\u001b[1;32m----> 1\u001b[1;33m \u001b[1;32mfrom\u001b[0m \u001b[0msklearn\u001b[0m\u001b[1;33m.\u001b[0m\u001b[0mtree\u001b[0m \u001b[1;32mimport\u001b[0m \u001b[0mdecisiontree\u001b[0m\u001b[1;33m\u001b[0m\u001b[1;33m\u001b[0m\u001b[0m\n",
      "\u001b[0m\u001b[0;32m      2\u001b[0m \u001b[1;33m\u001b[0m\u001b[0m\n",
      "\u001b[0;32m      3\u001b[0m \u001b[0mdt\u001b[0m \u001b[1;33m=\u001b[0m \u001b[0mdecisiontree\u001b[0m\u001b[1;33m(\u001b[0m\u001b[1;33m)\u001b[0m\u001b[1;33m\u001b[0m\u001b[1;33m\u001b[0m\u001b[0m\n",
      "\u001b[0;32m      4\u001b[0m \u001b[0mrskf\u001b[0m \u001b[1;33m=\u001b[0m \u001b[0mRepeatedStratifiedKFold\u001b[0m\u001b[1;33m(\u001b[0m\u001b[0mn_splits\u001b[0m \u001b[1;33m=\u001b[0m \u001b[0mnum_folds\u001b[0m\u001b[1;33m,\u001b[0m \u001b[0mn_repeats\u001b[0m \u001b[1;33m=\u001b[0m \u001b[0mnum_rep\u001b[0m\u001b[1;33m,\u001b[0m \u001b[0mrandom_state\u001b[0m \u001b[1;33m=\u001b[0m \u001b[1;36m36851234\u001b[0m\u001b[1;33m)\u001b[0m\u001b[1;33m\u001b[0m\u001b[1;33m\u001b[0m\u001b[0m\n",
      "\n",
      "\u001b[1;31mImportError\u001b[0m: cannot import name 'decisiontree' from 'sklearn.tree' (c:\\Users\\Pichau\\AppData\\Local\\Programs\\Python\\Python38\\lib\\site-packages\\sklearn\\tree\\__init__.py)"
     ]
    }
   ],
   "source": [
    "from sklearn.tree import nbg\n",
    "\n",
    "nbg = nbg()\n",
    "rskf = RepeatedStratifiedKFold(n_splits = num_folds, n_repeats = num_rep, random_state = 36851234)"
   ]
  },
  {
   "cell_type": "markdown",
   "metadata": {},
   "source": [
    "### Classificação e obtenção dos resultados"
   ]
  },
  {
   "cell_type": "code",
   "execution_count": null,
   "metadata": {},
   "outputs": [
    {
     "name": "stdout",
     "output_type": "stream",
     "text": [
      "KNN (mean, std, low, upp): \n",
      " 0.6974945533769062 0.10891617525307232 0.6585201167931325 0.73646898996068\n"
     ]
    }
   ],
   "source": [
    "nbg_scores = cross_val_score(nbg, wine_x, wine_y, scoring='accuracy', cv=rskf)\n",
    "#print(score)\n",
    "\n",
    "nbg_score_mean = nbg_scores.mean()\n",
    "nbg_score_std = nbg_scores.std()\n",
    "nbg_score_low, nbg_score_upp = stats.norm.interval(0.95, loc=nbg_score_mean, scale=nbg_score_std/np.sqrt(len(nbg_scores)))\n",
    "\n",
    "print(\"nbg (mean, std, low, upp): \\n\",nbg_score_mean, nbg_score_std, nbg_score_low, nbg_score_upp)"
   ]
  },
  {
   "cell_type": "markdown",
   "metadata": {},
   "source": [
    "## KMC"
   ]
  },
  {
   "cell_type": "markdown",
   "metadata": {},
   "source": [
    "### Configuração do classificador"
   ]
  },
  {
   "cell_type": "code",
   "execution_count": null,
   "metadata": {},
   "outputs": [
    {
     "ename": "ImportError",
     "evalue": "cannot import name 'decisiontree' from 'sklearn.tree' (c:\\Users\\Pichau\\AppData\\Local\\Programs\\Python\\Python38\\lib\\site-packages\\sklearn\\tree\\__init__.py)",
     "output_type": "error",
     "traceback": [
      "\u001b[1;31m---------------------------------------------------------------------------\u001b[0m\n",
      "\u001b[1;31mImportError\u001b[0m                               Traceback (most recent call last)\n",
      "\u001b[1;32m<ipython-input-21-3ea760933789>\u001b[0m in \u001b[0;36m<module>\u001b[1;34m\u001b[0m\n",
      "\u001b[1;32m----> 1\u001b[1;33m \u001b[1;32mfrom\u001b[0m \u001b[0msklearn\u001b[0m\u001b[1;33m.\u001b[0m\u001b[0mtree\u001b[0m \u001b[1;32mimport\u001b[0m \u001b[0mdecisiontree\u001b[0m\u001b[1;33m\u001b[0m\u001b[1;33m\u001b[0m\u001b[0m\n",
      "\u001b[0m\u001b[0;32m      2\u001b[0m \u001b[1;33m\u001b[0m\u001b[0m\n",
      "\u001b[0;32m      3\u001b[0m \u001b[0mdt\u001b[0m \u001b[1;33m=\u001b[0m \u001b[0mdecisiontree\u001b[0m\u001b[1;33m(\u001b[0m\u001b[1;33m)\u001b[0m\u001b[1;33m\u001b[0m\u001b[1;33m\u001b[0m\u001b[0m\n",
      "\u001b[0;32m      4\u001b[0m \u001b[0mrskf\u001b[0m \u001b[1;33m=\u001b[0m \u001b[0mRepeatedStratifiedKFold\u001b[0m\u001b[1;33m(\u001b[0m\u001b[0mn_splits\u001b[0m \u001b[1;33m=\u001b[0m \u001b[0mnum_folds\u001b[0m\u001b[1;33m,\u001b[0m \u001b[0mn_repeats\u001b[0m \u001b[1;33m=\u001b[0m \u001b[0mnum_rep\u001b[0m\u001b[1;33m,\u001b[0m \u001b[0mrandom_state\u001b[0m \u001b[1;33m=\u001b[0m \u001b[1;36m36851234\u001b[0m\u001b[1;33m)\u001b[0m\u001b[1;33m\u001b[0m\u001b[1;33m\u001b[0m\u001b[0m\n",
      "\n",
      "\u001b[1;31mImportError\u001b[0m: cannot import name 'decisiontree' from 'sklearn.tree' (c:\\Users\\Pichau\\AppData\\Local\\Programs\\Python\\Python38\\lib\\site-packages\\sklearn\\tree\\__init__.py)"
     ]
    }
   ],
   "source": [
    "# CREATE CLASSIFIER\n",
    "from sklearn import newclassifier\n",
    "\n",
    "kmc = newclassifier()\n",
    "rskf = RepeatedStratifiedKFold(n_splits = num_folds, n_repeats = num_rep, random_state = 36851234)"
   ]
  },
  {
   "cell_type": "markdown",
   "metadata": {},
   "source": [
    "### Classificação e obtenção dos resultados"
   ]
  },
  {
   "cell_type": "code",
   "execution_count": null,
   "metadata": {},
   "outputs": [
    {
     "name": "stdout",
     "output_type": "stream",
     "text": [
      "KNN (mean, std, low, upp): \n",
      " 0.6974945533769062 0.10891617525307232 0.6585201167931325 0.73646898996068\n"
     ]
    }
   ],
   "source": [
    "kmc_scores = cross_val_score(dt, wine_x, wine_y, scoring='accuracy', cv=rskf)\n",
    "#print(score)\n",
    "\n",
    "kmc_score_mean = kmc_scores.mean()\n",
    "kmc_score_std = kmc_scores.std()\n",
    "kmc_score_low, kmc_score_upp = stats.norm.interval(0.95, loc=kmc_score_mean, scale=kmc_score_std/np.sqrt(len(kmc_scores)))\n",
    "\n",
    "print(\"dt (mean, std, low, upp): \\n\",kmc_score_mean, kmc_score_std, kmc_score_low, kmc_score_upp)"
   ]
  },
  {
   "cell_type": "markdown",
   "metadata": {},
   "source": [
    "## Results"
   ]
  },
  {
   "cell_type": "markdown",
   "metadata": {},
   "source": [
    "### Imprime os Resultados"
   ]
  },
  {
   "cell_type": "code",
   "execution_count": null,
   "metadata": {},
   "outputs": [],
   "source": [
    "# Create file  results.md \n",
    "with open(\"../results/results.md\", \"w\") as rf: #opening result file\n",
    "    print(\"# Results Obtained\", file=rf)\n",
    "    print(\"## Configuration\\n\", file=rf)\n",
    "    print(\"Num of folds: \", num_folds, \"\\n\", file=rf)\n",
    "    print(\"Num of repetitions: \", num_rep, \"\\n\", file=rf)\n",
    "    print(\"Test run on: \", exec_time, file=rf)\n",
    "    \n",
    "    print(\"## Zero R\\n\", file=rf)\n",
    "    print(\"Mean Value: \", str(zr_score_mean), \"\\n\", file=rf)\n",
    "    print(\"Standart Variation: \", str(zr_score_std), \"\\n\", file=rf)\n",
    "    print(\"Lower limit: \", str(zr_score_low), \"\\n\", file=rf)\n",
    "    print(\"Upper limit: \", str(zr_score_upp), \"\\n\", file=rf)\n",
    "\n",
    "    print(\"## K NEAREST NEIGHBORS\\n\", file=rf)\n",
    "    print(\"Mean Value: \", str(knn_score_mean), \"\\n\", file=rf)\n",
    "    print(\"Standart Variation: \", str(knn_score_std), \"\\n\", file=rf)\n",
    "    print(\"Lower limit: \", str(knn_score_low), \"\\n\", file=rf)\n",
    "    print(\"Upper limit: \", str(knn_score_upp), \"\\n\", file=rf)\n",
    "\n",
    "    # print(\"## DECISION TREE\\n\", file=rf)\n",
    "    # print(\"Mean Value: \", str(dt_score_mean), \"\\n\", file=rf)\n",
    "    # print(\"Standart Variation: \", str(dt_score_std), \"\\n\", file=rf)\n",
    "    # print(\"Lower limit: \", str(dt_score_low), \"\\n\", file=rf)\n",
    "    # print(\"Upper limit: \", str(dt_score_upp), \"\\n\", file=rf)\n",
    "\n",
    "    # print(\"## NBG\\n\", file=rf)\n",
    "    # print(\"Mean Value: \", str(nbg_score_mean), \"\\n\", file=rf)\n",
    "    # print(\"Standart Variation: \", str(nbg_score_std), \"\\n\", file=rf)\n",
    "    # print(\"Lower limit: \", str(nbg_score_low), \"\\n\", file=rf)\n",
    "    # print(\"Upper limit: \", str(nbg_score_upp), \"\\n\", file=rf)\n",
    "\n",
    "    # print(\"## KMC\\n\", file=rf)\n",
    "    # print(\"Mean Value: \", str(kmc_score_mean), \"\\n\", file=rf)\n",
    "    # print(\"Standart Variation: \", str(kmc_score_std), \"\\n\", file=rf)\n",
    "    # print(\"Lower limit: \", str(kmc_score_low), \"\\n\", file=rf)\n",
    "    # print(\"Upper limit: \", str(kmc_score_upp), \"\\n\", file=rf)"
   ]
  },
  {
   "cell_type": "markdown",
   "metadata": {},
   "source": [
    "### Gera os graficos"
   ]
  },
  {
   "cell_type": "code",
   "execution_count": null,
   "metadata": {},
   "outputs": [],
   "source": [
    "#plot "
   ]
  }
 ],
 "metadata": {
  "interpreter": {
   "hash": "12e1f38cb87e37384bc5c23b635ae1d64a3ff37efda71f71566aa42a7a9ed8d2"
  },
  "kernelspec": {
   "display_name": "Python 3.8.5 64-bit",
   "language": "python",
   "name": "python3"
  },
  "language_info": {
   "codemirror_mode": {
    "name": "ipython",
    "version": 3
   },
   "file_extension": ".py",
   "mimetype": "text/x-python",
   "name": "python",
   "nbconvert_exporter": "python",
   "pygments_lexer": "ipython3",
   "version": "3.8.5"
  },
  "orig_nbformat": 4
 },
 "nbformat": 4,
 "nbformat_minor": 2
}
