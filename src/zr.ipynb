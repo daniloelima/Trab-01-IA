{
 "cells": [
  {
   "cell_type": "markdown",
   "metadata": {},
   "source": [
    "# ZERO R CLASSIFIER"
   ]
  },
  {
   "cell_type": "markdown",
   "metadata": {},
   "source": [
    "## Imports and Settings"
   ]
  },
  {
   "cell_type": "code",
   "execution_count": 15,
   "metadata": {},
   "outputs": [],
   "source": [
    "import numpy as np \n",
    "import scipy as sp \n",
    "from sklearn import datasets\n",
    "from sklearn.model_selection import cross_val_predict, cross_val_score, RepeatedStratifiedKFold\n",
    "from sklearn.dummy import DummyClassifier\n",
    "from sklearn.metrics import confusion_matrix, plot_confusion_matrix\n",
    "from datetime import datetime\n",
    "import matplotlib.pyplot as plt"
   ]
  },
  {
   "cell_type": "code",
   "execution_count": 16,
   "metadata": {},
   "outputs": [],
   "source": [
    "num_folds = 10\n",
    "num_rep = 3\n",
    "exec_time = datetime.today().strftime('%Y-%m-%d %H:%M:%S')"
   ]
  },
  {
   "cell_type": "markdown",
   "metadata": {},
   "source": [
    "## Código"
   ]
  },
  {
   "cell_type": "markdown",
   "metadata": {},
   "source": [
    "### Leitura do dataset"
   ]
  },
  {
   "cell_type": "code",
   "execution_count": 3,
   "metadata": {},
   "outputs": [],
   "source": [
    "wine_ds = datasets.load_wine()\n",
    "\n",
    "wine_x = wine_ds.data\n",
    "wine_y = wine_ds.target"
   ]
  },
  {
   "cell_type": "markdown",
   "metadata": {},
   "source": [
    "### Configuração do classificador"
   ]
  },
  {
   "cell_type": "code",
   "execution_count": 4,
   "metadata": {},
   "outputs": [],
   "source": [
    "zero_r = DummyClassifier()\n",
    "rskf = RepeatedStratifiedKFold(n_splits = num_folds, n_repeats = num_rep, random_state = 36851234)"
   ]
  },
  {
   "cell_type": "markdown",
   "metadata": {},
   "source": [
    "### Classificação\n"
   ]
  },
  {
   "cell_type": "code",
   "execution_count": 5,
   "metadata": {},
   "outputs": [
    {
     "name": "stderr",
     "output_type": "stream",
     "text": [
      "c:\\Users\\Pichau\\AppData\\Local\\Programs\\Python\\Python38\\lib\\site-packages\\sklearn\\dummy.py:131: FutureWarning: The default value of strategy will change from stratified to prior in 0.24.\n",
      "  warnings.warn(\"The default value of strategy will change from \"\n",
      "c:\\Users\\Pichau\\AppData\\Local\\Programs\\Python\\Python38\\lib\\site-packages\\sklearn\\dummy.py:131: FutureWarning: The default value of strategy will change from stratified to prior in 0.24.\n",
      "  warnings.warn(\"The default value of strategy will change from \"\n",
      "c:\\Users\\Pichau\\AppData\\Local\\Programs\\Python\\Python38\\lib\\site-packages\\sklearn\\dummy.py:131: FutureWarning: The default value of strategy will change from stratified to prior in 0.24.\n",
      "  warnings.warn(\"The default value of strategy will change from \"\n"
     ]
    }
   ],
   "source": [
    "predicts = []\n",
    "\n",
    "for i in range(num_rep):\n",
    "    predicts.append(cross_val_predict(zero_r, wine_x, wine_y, cv=num_folds))\n",
    "    \n",
    "# plt.matshow(conf_matrix, cmap=plt.cm.Blues)\n",
    "# for i in range(len(conf_matrix)):\n",
    "#    for j in range(len(conf_matrix)):\n",
    "#        plt.text(i, j, conf_matrix[i][j], va=\"center\", ha=\"center\")\n"
   ]
  },
  {
   "cell_type": "markdown",
   "metadata": {},
   "source": [
    "## Resultados"
   ]
  },
  {
   "cell_type": "code",
   "execution_count": 6,
   "metadata": {},
   "outputs": [
    {
     "name": "stderr",
     "output_type": "stream",
     "text": [
      "c:\\Users\\Pichau\\AppData\\Local\\Programs\\Python\\Python38\\lib\\site-packages\\sklearn\\dummy.py:131: FutureWarning: The default value of strategy will change from stratified to prior in 0.24.\n",
      "  warnings.warn(\"The default value of strategy will change from \"\n",
      "c:\\Users\\Pichau\\AppData\\Local\\Programs\\Python\\Python38\\lib\\site-packages\\sklearn\\dummy.py:131: FutureWarning: The default value of strategy will change from stratified to prior in 0.24.\n",
      "  warnings.warn(\"The default value of strategy will change from \"\n",
      "c:\\Users\\Pichau\\AppData\\Local\\Programs\\Python\\Python38\\lib\\site-packages\\sklearn\\dummy.py:131: FutureWarning: The default value of strategy will change from stratified to prior in 0.24.\n",
      "  warnings.warn(\"The default value of strategy will change from \"\n"
     ]
    }
   ],
   "source": [
    "score = cross_val_score(zero_r, wine_x, wine_y, scoring='accuracy', cv=rskf)\n",
    "#print(score)\n",
    "score_mean = score.mean()\n",
    "#print(\"Media do classificador\", score_mean)\n",
    "\n"
   ]
  },
  {
   "cell_type": "code",
   "execution_count": 23,
   "metadata": {},
   "outputs": [],
   "source": [
    "with open(\"../results/result_zr.md\", \"w\") as rf:\n",
    "    print(\"# Zero R\\n\", file=rf)\n",
    "    print(\"## Configuration\\n\", file=rf)\n",
    "    print(\"Num of folds: \", num_folds, \"\\n\", file=rf)\n",
    "    print(\"Num of repetitions: \", num_rep, \"\\n\", file=rf)\n",
    "    print(\"Test run on: \", exec_time, file=rf)\n",
    "    print(\"## Results\\n\", file=rf)\n",
    "    print(\"Mean Value: \", str(score_mean), file=rf)"
   ]
  }
 ],
 "metadata": {
  "interpreter": {
   "hash": "12e1f38cb87e37384bc5c23b635ae1d64a3ff37efda71f71566aa42a7a9ed8d2"
  },
  "kernelspec": {
   "display_name": "Python 3.8.5 64-bit",
   "language": "python",
   "name": "python3"
  },
  "language_info": {
   "codemirror_mode": {
    "name": "ipython",
    "version": 3
   },
   "file_extension": ".py",
   "mimetype": "text/x-python",
   "name": "python",
   "nbconvert_exporter": "python",
   "pygments_lexer": "ipython3",
   "version": "3.8.5"
  },
  "orig_nbformat": 4
 },
 "nbformat": 4,
 "nbformat_minor": 2
}
