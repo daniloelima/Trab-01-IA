{
 "cells": [
  {
   "cell_type": "markdown",
   "metadata": {},
   "source": [
    "# ZERO R CLASSIFIER"
   ]
  },
  {
   "cell_type": "markdown",
   "metadata": {},
   "source": [
    "## Imports and Settings"
   ]
  },
  {
   "cell_type": "code",
   "execution_count": 46,
   "metadata": {},
   "outputs": [],
   "source": [
    "import numpy as np \n",
    "import scipy as sp \n",
    "from sklearn import datasets\n",
    "from sklearn.model_selection import cross_val_predict, cross_val_score\n",
    "from sklearn.dummy import DummyClassifier\n",
    "from sklearn.metrics import confusion_matrix, plot_confusion_matrix\n",
    "import matplotlib.pyplot as plt"
   ]
  },
  {
   "cell_type": "code",
   "execution_count": 28,
   "metadata": {},
   "outputs": [],
   "source": [
    "num_folds = 10\n",
    "num_rep = 3"
   ]
  },
  {
   "cell_type": "markdown",
   "metadata": {},
   "source": [
    "## Código"
   ]
  },
  {
   "cell_type": "markdown",
   "metadata": {},
   "source": [
    "### Leitura do dataset"
   ]
  },
  {
   "cell_type": "code",
   "execution_count": 10,
   "metadata": {},
   "outputs": [],
   "source": [
    "wine_ds = datasets.load_wine()\n",
    "\n",
    "wine_x = wine_ds.data\n",
    "wine_y = wine_ds.target"
   ]
  },
  {
   "cell_type": "markdown",
   "metadata": {},
   "source": [
    "### Configuração do classificador"
   ]
  },
  {
   "cell_type": "code",
   "execution_count": 17,
   "metadata": {},
   "outputs": [],
   "source": [
    "zero_r = DummyClassifier(strategy='stratified')"
   ]
  },
  {
   "cell_type": "markdown",
   "metadata": {},
   "source": [
    "### Classificação\n"
   ]
  },
  {
   "cell_type": "code",
   "execution_count": 29,
   "metadata": {},
   "outputs": [],
   "source": [
    "predicts = []\n",
    "\n",
    "for i in range(num_rep):\n",
    "    predicts.append(cross_val_predict(zero_r, wine_x, wine_y, cv=folds))\n"
   ]
  },
  {
   "cell_type": "markdown",
   "metadata": {},
   "source": [
    "### Resultados"
   ]
  },
  {
   "cell_type": "code",
   "execution_count": 50,
   "metadata": {},
   "outputs": [
    {
     "name": "stdout",
     "output_type": "stream",
     "text": [
      "[0.44444444 0.61111111 0.61111111 0.27777778 0.27777778 0.44444444\n",
      " 0.44444444 0.38888889 0.47058824 0.17647059]\n",
      "\n",
      "Matriz de confusão:\n",
      "[[19 26 14]\n",
      " [20 29 22]\n",
      " [14 22 12]]\n",
      "[0.55555556 0.22222222 0.33333333 0.44444444 0.33333333 0.22222222\n",
      " 0.33333333 0.22222222 0.41176471 0.41176471]\n",
      "\n",
      "Matriz de confusão:\n",
      "[[17 27 15]\n",
      " [16 32 23]\n",
      " [17 16 15]]\n",
      "[0.33333333 0.22222222 0.38888889 0.5        0.33333333 0.27777778\n",
      " 0.38888889 0.33333333 0.41176471 0.17647059]\n",
      "\n",
      "Matriz de confusão:\n",
      "[[20 29 10]\n",
      " [20 35 16]\n",
      " [ 9 19 20]]\n"
     ]
    }
   ],
   "source": [
    "for i in range(num_rep):\n",
    "    score = cross_val_score(zero_r, wine_x, wine_y, scoring='accuracy', cv=folds)\n",
    "    print(score)\n",
    "    conf_matrix = (confusion_matrix(wine_y, predicts[i]))\n",
    "    print(\"\\nMatriz de confusão:\")\n",
    "    print(conf_matrix)\n",
    "    \n",
    "    # plt.matshow(conf_matrix, cmap=plt.cm.Blues)\n",
    "    # for i in range(len(conf_matrix)):\n",
    "    #    for j in range(len(conf_matrix)):\n",
    "    #        plt.text(i, j, conf_matrix[i][j], va=\"center\", ha=\"center\")"
   ]
  }
 ],
 "metadata": {
  "interpreter": {
   "hash": "31f2aee4e71d21fbe5cf8b01ff0e069b9275f58929596ceb00d14d90e3e16cd6"
  },
  "kernelspec": {
   "display_name": "Python 3.8.10 64-bit",
   "language": "python",
   "name": "python3"
  },
  "language_info": {
   "codemirror_mode": {
    "name": "ipython",
    "version": 3
   },
   "file_extension": ".py",
   "mimetype": "text/x-python",
   "name": "python",
   "nbconvert_exporter": "python",
   "pygments_lexer": "ipython3",
   "version": "3.8.10"
  },
  "orig_nbformat": 4
 },
 "nbformat": 4,
 "nbformat_minor": 2
}
